{
 "cells": [
  {
   "cell_type": "code",
   "execution_count": 1,
   "metadata": {},
   "outputs": [],
   "source": [
    "import numpy as np"
   ]
  },
  {
   "cell_type": "code",
   "execution_count": null,
   "metadata": {},
   "outputs": [],
   "source": []
  },
  {
   "cell_type": "code",
   "execution_count": 2,
   "metadata": {},
   "outputs": [],
   "source": [
    "def generate_train_header(x, y, name):\n",
    "    '''\n",
    "    this method generate the\n",
    "    :param x:  input x data size\n",
    "    :param y:  input label (one hot label)\n",
    "    :return:\n",
    "    '''\n",
    "    # quantize input x\n",
    "    min_value = np.min(x)\n",
    "    max_value = np.max(x)\n",
    "\n",
    "    int_bits = int(np.ceil(np.log2(max(abs(min_value), abs(max_value)))))\n",
    "    dec_bits = 7 - int_bits\n",
    "    x = np.round(x*2**dec_bits).astype(np.int8)\n",
    "    \n",
    "#     print(x[0][0])\n",
    "    data = x.astype(dtype=\"byte\")\n",
    "    label = y\n",
    "    node = 0\n",
    "    file=name\n",
    "    with open(file, 'w') as f:\n",
    "        num_of_image = x.shape[0]\n",
    "        for i in range(num_of_image):\n",
    "            f.write('#define NODE_%d_TRAIN_IMG_%d {'%(node,i) )\n",
    "#             print(data[i])\n",
    "            (data[i]).flatten().tofile(f, sep=\", \") # convert 0~1 to 0~127\n",
    "            f.write('} \\n')\n",
    "            f.write('#define NODE_%d_TRAIN_IMG%d_LABEL'% (node, i))\n",
    "            f.write(' %d \\n \\n' % label[i])\n",
    "        f.write('#define NODE_%d_TOTAL_TRAIN_IMAGES %d \\n \\n'%(node,num_of_image))\n",
    "\n",
    "        f.write('static q7_t NODE_%d_TRAIN_IMAGES[%d][%d] = {' % (node,num_of_image, data[0].flatten().shape[0]))\n",
    "        f.write('NODE_%d_TRAIN_IMG_0'%(node))\n",
    "        for i in range(num_of_image -1):\n",
    "            f.write(',NODE_%d_TRAIN_IMG_%d'%(node, i+1))\n",
    "        f.write('};\\n\\n')\n",
    "\n",
    "        f.write('static q7_t NODE_%d_TRAIN_LABELS[%d] = {' % (node,num_of_image))\n",
    "        f.write('NODE_%d_TRAIN_IMG0_LABEL'%(node))\n",
    "        for i in range(num_of_image -1):\n",
    "            f.write(',NODE_%d_TRAIN_IMG%d_LABEL'%(node, i+1))\n",
    "        f.write('};\\n\\n')\n",
    "\n",
    "#     return 000\n"
   ]
  },
  {
   "cell_type": "code",
   "execution_count": 3,
   "metadata": {},
   "outputs": [],
   "source": [
    "def generate_test_bin(x, y, file='test_data.h'):\n",
    "    '''\n",
    "    method to generate the test data as a header file\n",
    "    :param x:  input x data size\n",
    "    :param y:  input label \n",
    "    :write to file \n",
    "    :return: nothing\n",
    "    '''\n",
    "    # quantize input x\n",
    "    min_value = np.min(x)\n",
    "    max_value = np.max(x)\n",
    "\n",
    "    int_bits = int(np.ceil(np.log2(max(abs(min_value), abs(max_value)))))\n",
    "    dec_bits = 7 - int_bits\n",
    "    x = np.round(x*2**dec_bits).astype(np.int8)\n",
    "    \n",
    "    data = x\n",
    "    label = y\n",
    "\n",
    "    with open(file, 'w') as f:\n",
    "        num_of_image = x.shape[0]\n",
    "        print(\"Number of test images:\",num_of_image)\n",
    "        for i in range(num_of_image):\n",
    "            f.write('#define TEST_IMG%d {'% (i))\n",
    "            data[i].flatten().tofile(f, sep=\", \")\n",
    "            f.write('} \\n')\n",
    "            f.write('#define TEST_IMG%d_LABEL'% (i))\n",
    "            f.write(' %d \\n \\n' % label[i])\n",
    "        f.write('#define TOTAL_TEST_IMAGES %d \\n \\n'%(num_of_image))\n",
    "\n",
    "        f.write('static q7_t TEST_IMAGES[%d][%d] = {' % (num_of_image, data[0].flatten().shape[0]))\n",
    "        f.write('TEST_IMG0')\n",
    "        for i in range(num_of_image -1):\n",
    "            f.write(',TEST_IMG%d'%(i+1))\n",
    "        f.write('};\\n\\n')\n",
    "\n",
    "        f.write('static q7_t TEST_LABELS[%d] = {' % (num_of_image))\n",
    "        f.write('TEST_IMG0_LABEL')\n",
    "        for i in range(num_of_image -1):\n",
    "            f.write(',TEST_IMG%d_LABEL'%(i+1))\n",
    "        f.write('};\\n\\n')\n"
   ]
  },
  {
   "cell_type": "code",
   "execution_count": 4,
   "metadata": {},
   "outputs": [],
   "source": [
    "def federated_train_images(node, data, label, size, file='renameTHIS.h'):\n",
    "    # test\n",
    "    with open(file, 'w') as f:\n",
    "        num_of_image = size\n",
    "        for i in range(num_of_image):\n",
    "            f.write('#define NODE_%d_TRAIN_IMG_%d {'%(node,i) )\n",
    "            np.round(data[i]).flatten().tofile(f, sep=\", \", format=\"%d\") # convert 0~1 to 0~127\n",
    "            f.write('} \\n')\n",
    "            f.write('#define NODE_%d_TRAIN_IMG%d_LABEL'% (node, i))\n",
    "            f.write(' %d \\n \\n' % label[i])\n",
    "        f.write('#define NODE_%d_TOTAL_TRAIN_IMAGES %d \\n \\n'%(node,num_of_image))\n",
    "\n",
    "        f.write('static q7_t NODE_%d_TRAIN_IMAGES[%d][%d] = {' % (node,num_of_image, data[0].flatten().shape[0]))\n",
    "        f.write('NODE_%d_TRAIN_IMG_0'%(node))\n",
    "        for i in range(num_of_image -1):\n",
    "            f.write(',NODE_%d_TRAIN_IMG_%d'%(node, i+1))\n",
    "        f.write('};\\n\\n')\n",
    "\n",
    "        f.write('static q7_t NODE_%d_TRAIN_LABELS[%d] = {' % (node,num_of_image))\n",
    "        f.write('NODE_%d_TRAIN_IMG0_LABEL'%(node))\n",
    "        for i in range(num_of_image -1):\n",
    "            f.write(',NODE_%d_TRAIN_IMG%d_LABEL'%(node, i+1))\n",
    "        f.write('};\\n\\n')"
   ]
  },
  {
   "cell_type": "code",
   "execution_count": 5,
   "metadata": {},
   "outputs": [],
   "source": [
    "import os\n",
    "nnscript = os.path.abspath('../../scripts')\n",
    "os.sys.path.append(nnscript)"
   ]
  },
  {
   "cell_type": "code",
   "execution_count": 6,
   "metadata": {},
   "outputs": [],
   "source": [
    "import pandas as pd"
   ]
  },
  {
   "cell_type": "code",
   "execution_count": 7,
   "metadata": {},
   "outputs": [],
   "source": [
    "# load data\n",
    "try:\n",
    "    x_train = np.load('train_data.npy')\n",
    "    y_train = np.load('train_label.npy')\n",
    "    x_test = np.load('test_data.npy')\n",
    "    y_test = np.load('test_label.npy')\n",
    "    x_val = np.load('val_data.npy')\n",
    "    y_val = np.load('val_label.npy')\n",
    "except:\n",
    "    (x_train, y_train), (x_test, y_test), (x_val, y_val) = merge_mfcc_file()\n",
    "    np.save('train_data.npy', x_train)\n",
    "    np.save('train_label.npy', y_train)\n",
    "    np.save('test_data.npy', x_test)\n",
    "    np.save('test_label.npy', y_test)\n",
    "    np.save('val_data.npy', x_val)\n",
    "    np.save('val_label.npy', y_val)"
   ]
  },
  {
   "cell_type": "code",
   "execution_count": 8,
   "metadata": {},
   "outputs": [],
   "source": [
    "selected_lable = ['backward', 'bed', 'bird', 'cat', 'dog', 'down', 'eight','five', 'follow', 'forward',\n",
    "                      'four','go','happy','house','learn','left','marvin','nine','no','off','on','one','right',\n",
    "                      'seven','sheila','six','stop','three','tree','two','up','visual','yes','zero']"
   ]
  },
  {
   "cell_type": "code",
   "execution_count": 9,
   "metadata": {},
   "outputs": [
    {
     "data": {
      "text/plain": [
       "(85245, 62, 13)"
      ]
     },
     "execution_count": 9,
     "metadata": {},
     "output_type": "execute_result"
    }
   ],
   "source": [
    "x_train.shape"
   ]
  },
  {
   "cell_type": "code",
   "execution_count": 10,
   "metadata": {},
   "outputs": [
    {
     "data": {
      "text/plain": [
       "(11005, 62, 13)"
      ]
     },
     "execution_count": 10,
     "metadata": {},
     "output_type": "execute_result"
    }
   ],
   "source": [
    "x_test.shape"
   ]
  },
  {
   "cell_type": "code",
   "execution_count": 52,
   "metadata": {},
   "outputs": [],
   "source": [
    "import sys"
   ]
  },
  {
   "cell_type": "code",
   "execution_count": 53,
   "metadata": {},
   "outputs": [
    {
     "data": {
      "text/plain": [
       "507378384"
      ]
     },
     "execution_count": 53,
     "metadata": {},
     "output_type": "execute_result"
    }
   ],
   "source": [
    "sys.getsizeof(x_train)"
   ]
  },
  {
   "cell_type": "code",
   "execution_count": null,
   "metadata": {},
   "outputs": [],
   "source": []
  },
  {
   "cell_type": "code",
   "execution_count": null,
   "metadata": {},
   "outputs": [],
   "source": []
  },
  {
   "cell_type": "code",
   "execution_count": 11,
   "metadata": {},
   "outputs": [
    {
     "name": "stdout",
     "output_type": "stream",
     "text": [
      "x_train shape: (85245, 62, 12, 1) max 23.778687 min -37.92257\n",
      "(170490,)\n"
     ]
    }
   ],
   "source": [
    "# only take 2~13 coefficient. 1 is destructive.\n",
    "x_train = x_train[:, :, 1:]\n",
    "x_test = x_test[:, :, 1:]\n",
    "x_val = x_val[:, :, 1:]\n",
    "\n",
    "# expand on channel axis because we only have one channel\n",
    "x_train = x_train.reshape((x_train.shape[0], x_train.shape[1], x_train.shape[2], 1))\n",
    "x_test = x_test.reshape((x_test.shape[0], x_test.shape[1], x_test.shape[2], 1))\n",
    "x_val = x_val.reshape((x_val.shape[0], x_val.shape[1], x_val.shape[2], 1))\n",
    "print('x_train shape:', x_train.shape, 'max', x_train.max(), 'min', x_train.min())\n",
    "\n",
    "# training data enforcement\n",
    "x_train = np.vstack((x_train, x_train*0.8))\n",
    "y_train = np.hstack((y_train, y_train))\n",
    "print(y_train.shape)\n",
    "\n",
    "def normalize(data, n, quantize=True):\n",
    "    limit = pow(2, n)\n",
    "    data = np.clip(data, -limit, limit) / limit\n",
    "    if quantize:\n",
    "        data = np.round(data * 128) / 128.0\n",
    "    return data\n",
    "\n",
    "# instead of using maximum value for quantised, we allows some saturation to save more details in small values.\n",
    "x_train = normalize(x_train, 3)\n",
    "x_test = normalize(x_test, 3)\n",
    "x_val = normalize(x_val, 3)\n",
    "\n",
    "\n",
    "# shuffle test data\n",
    "permutation = np.random.permutation(x_test.shape[0])\n",
    "x_test = x_test[permutation, :]\n",
    "y_test = y_test[permutation]\n",
    "\n",
    "permutation = np.random.permutation(x_train.shape[0])\n",
    "x_train = x_train[permutation, :]\n",
    "y_train = y_train[permutation]\n",
    "\n",
    "permutation = np.random.permutation(x_val.shape[0])\n",
    "x_val = x_val[permutation, :]\n",
    "y_val = y_val[permutation]\n",
    "\n",
    "\n"
   ]
  },
  {
   "cell_type": "code",
   "execution_count": 50,
   "metadata": {},
   "outputs": [
    {
     "name": "stdout",
     "output_type": "stream",
     "text": [
      "[10 23 15 11 26]\n"
     ]
    }
   ],
   "source": [
    "labelindices = np.random.choice(34, 5, replace=False)\n",
    "print(labelindices)\n",
    "\n",
    "\n",
    "sub_x_train = x_train[np.isin(y_train.flatten(), labelindices).flatten()]"
   ]
  },
  {
   "cell_type": "code",
   "execution_count": 51,
   "metadata": {},
   "outputs": [
    {
     "data": {
      "text/plain": [
       "(24086, 62, 12, 1)"
      ]
     },
     "execution_count": 51,
     "metadata": {},
     "output_type": "execute_result"
    }
   ],
   "source": [
    "sub_x_train.shape\n"
   ]
  },
  {
   "cell_type": "code",
   "execution_count": null,
   "metadata": {},
   "outputs": [],
   "source": []
  },
  {
   "cell_type": "code",
   "execution_count": null,
   "metadata": {},
   "outputs": [],
   "source": []
  },
  {
   "cell_type": "code",
   "execution_count": 14,
   "metadata": {},
   "outputs": [
    {
     "ename": "NameError",
     "evalue": "name 'sub_x_test' is not defined",
     "output_type": "error",
     "traceback": [
      "\u001b[0;31m---------------------------------------------------------------------------\u001b[0m",
      "\u001b[0;31mNameError\u001b[0m                                 Traceback (most recent call last)",
      "\u001b[0;32m<ipython-input-14-90ed68b964ce>\u001b[0m in \u001b[0;36m<module>\u001b[0;34m\u001b[0m\n\u001b[0;32m----> 1\u001b[0;31m \u001b[0mgenerate_test_bin\u001b[0m\u001b[0;34m(\u001b[0m\u001b[0msub_x_test\u001b[0m\u001b[0;34m[\u001b[0m\u001b[0;36m10\u001b[0m\u001b[0;34m:\u001b[0m\u001b[0;36m15\u001b[0m\u001b[0;34m]\u001b[0m\u001b[0;34m,\u001b[0m \u001b[0msub_y_test\u001b[0m\u001b[0;34m[\u001b[0m\u001b[0;36m10\u001b[0m\u001b[0;34m:\u001b[0m\u001b[0;36m15\u001b[0m\u001b[0;34m]\u001b[0m\u001b[0;34m,\u001b[0m \u001b[0mfile\u001b[0m\u001b[0;34m=\u001b[0m\u001b[0;34m'fed_prunningNNOM-keyspot/src/keyspot_test.h'\u001b[0m\u001b[0;34m)\u001b[0m\u001b[0;34m\u001b[0m\u001b[0;34m\u001b[0m\u001b[0m\n\u001b[0m",
      "\u001b[0;31mNameError\u001b[0m: name 'sub_x_test' is not defined"
     ]
    }
   ],
   "source": [
    "generate_test_bin(sub_x_test[10:15], sub_y_test[10:15], file='fed_prunningNNOM-keyspot/src/keyspot_test.h')"
   ]
  },
  {
   "cell_type": "code",
   "execution_count": null,
   "metadata": {},
   "outputs": [],
   "source": [
    "!open .\n",
    "\n"
   ]
  },
  {
   "cell_type": "code",
   "execution_count": 15,
   "metadata": {},
   "outputs": [],
   "source": [
    "y_train, _ = pd.factorize( y_train) \n",
    "y_test, _ = pd.factorize( y_test) \n",
    "y_val, _ = pd.factorize( y_val)"
   ]
  },
  {
   "cell_type": "code",
   "execution_count": null,
   "metadata": {},
   "outputs": [],
   "source": [
    "\n",
    "sumples = 10\n",
    "\n",
    "\n",
    "for i in range (1):\n",
    "    labelindices = np.random.choice(34, 5, replace=False)\n",
    "    print(labelindices)\n",
    "    sub_x_test = x_test[np.isin(y_test.flatten(), labelindices).flatten()]\n",
    "    sub_y_test = y_test[np.isin(y_test.flatten(),labelindices).flatten()] \n",
    "\n",
    "    sub_y_test = np.unique(sub_y_test, return_inverse=True)[1] \n",
    "    # print(sub_y_test)\n",
    "    unique, counts = np.unique(sub_y_test[sumples:], return_counts=True)\n",
    "    print(dict(zip(unique, counts)) )\n",
    "\n",
    "    unique, counts = np.unique(sub_y_test[:sumples], return_counts=True)\n",
    "    print(dict(zip(unique, counts)) )\n",
    "\n",
    "\n",
    "\n",
    "\n",
    "    generate_train_header(sub_x_test[:sumples], sub_y_test[:sumples], name='fed_prunningNNOM-keyspot/src/keyspot_train_data.h')\n",
    "    generate_test_bin(sub_x_test[sumples:], sub_y_test[sumples:], file='fed_prunningNNOM-keyspot/src/keyspot_test.h')\n",
    "    !make -C ./fed_prunningNNOM-keyspot/ \n",
    "    !./fed_prunningNNOM-keyspot/uwnet\n",
    "\n",
    "    "
   ]
  },
  {
   "cell_type": "code",
   "execution_count": null,
   "metadata": {},
   "outputs": [],
   "source": [
    "\n"
   ]
  },
  {
   "cell_type": "code",
   "execution_count": null,
   "metadata": {},
   "outputs": [],
   "source": []
  },
  {
   "cell_type": "code",
   "execution_count": null,
   "metadata": {},
   "outputs": [],
   "source": []
  },
  {
   "cell_type": "code",
   "execution_count": null,
   "metadata": {},
   "outputs": [],
   "source": [
    "# sumples = 100\n",
    "\n",
    "# for i in range (30):\n",
    "#     labelindices = np.random.choice(35, 3, replace=False)\n",
    "#     print(labelindices)\n",
    "\n",
    "\n",
    "#     sub_x_test = x_test[np.isin(y_test.flatten(), labelindices).flatten()]\n",
    "#     sub_y_test = y_test[np.isin(y_test.flatten(), labelindices).flatten()] \n",
    "#     unique, counts = np.unique(sub_y_test[sumples], return_counts=True)\n",
    "#     print(dict(zip(unique, counts)) )\n",
    "\n",
    "#     generate_train_header(sub_x_test[:sumples], sub_y_test[:sumples], name='fed_prunningNNOM-keyspot/src/keyspot_train_data.h')\n",
    "#     generate_test_bin(sub_x_test[sumples:], sub_y_test[sumples:], file='fed_prunningNNOM-keyspot/src/keyspot_test.h')\n",
    "#     !make -C ./fed_prunningNNOM-keyspot/ \n",
    "#     !./fed_prunningNNOM-keyspot/uwnet\n",
    "\n"
   ]
  },
  {
   "cell_type": "code",
   "execution_count": null,
   "metadata": {},
   "outputs": [],
   "source": [
    "# !make -C ./fed_prunningNNOM-keyspot/"
   ]
  },
  {
   "cell_type": "code",
   "execution_count": null,
   "metadata": {},
   "outputs": [],
   "source": [
    "# generate_train_header(x_test[:sumples], y_test[:sumples], name='fed_prunningNNOM-keyspot/src/keyspot_train_data.h')\n",
    "# generate_test_bin(x_test[sumples:], y_test[sumples:], file='fed_prunningNNOM-keyspot/src/keyspot_test.h')\n",
    "\n"
   ]
  },
  {
   "cell_type": "code",
   "execution_count": null,
   "metadata": {},
   "outputs": [],
   "source": []
  },
  {
   "cell_type": "code",
   "execution_count": null,
   "metadata": {},
   "outputs": [],
   "source": []
  },
  {
   "cell_type": "code",
   "execution_count": null,
   "metadata": {},
   "outputs": [],
   "source": []
  },
  {
   "cell_type": "code",
   "execution_count": null,
   "metadata": {},
   "outputs": [],
   "source": []
  },
  {
   "cell_type": "code",
   "execution_count": null,
   "metadata": {},
   "outputs": [],
   "source": [
    "\n",
    "\n",
    "# x_train = x_train[np.isin(y_train.flatten(), [0,1,2]).flatten()]\n",
    "# y_train = y_train[np.isin(y_train.flatten(), [0,1,2]).flatten()]\n",
    "\n",
    "# x_val = x_val[np.isin(y_val.flatten(), [0,1,2]).flatten()]\n",
    "# y_val = y_val[np.isin(y_val.flatten(), [0,1,2]).flatten()]\n",
    "\n",
    "\n",
    "\n",
    "# x_test = x_test[np.isin(y_test.flatten(), [0,1,2]).flatten()]\n",
    "# y_test = y_test[np.isin(y_test.flatten(), [0,1,2]).flatten()] \n",
    "\n",
    "# y_test_original = y_test  # save for CI test\n",
    "\n",
    "\n",
    "# y_train = one_hot(y_train, 3)\n",
    "# y_test = one_hot(y_test,3)\n",
    "\n",
    "\n",
    "# print(\"norm\")\n",
    "# print(x_train.shape)\n",
    "# print(x_test.shape)\n",
    "# # normolized each sensor, to range -1~1\n",
    "# x_train = normalize(x_train)\n",
    "# x_test  = normalize(x_test)\n",
    "\n",
    "# generate binary test data, convert range to [-128 127] for mcu\n",
    "# x_test_bin = np.clip(x_test *128, -128, 127)\n",
    "# x_train_bin = np.clip(x_train*128, -128, 127)\n",
    "\n",
    "\n"
   ]
  },
  {
   "cell_type": "code",
   "execution_count": null,
   "metadata": {},
   "outputs": [],
   "source": [
    "len(x_val)"
   ]
  },
  {
   "cell_type": "code",
   "execution_count": null,
   "metadata": {},
   "outputs": [],
   "source": [
    "len(x_test)"
   ]
  },
  {
   "cell_type": "code",
   "execution_count": null,
   "metadata": {},
   "outputs": [],
   "source": []
  },
  {
   "cell_type": "code",
   "execution_count": null,
   "metadata": {},
   "outputs": [],
   "source": []
  },
  {
   "cell_type": "code",
   "execution_count": null,
   "metadata": {},
   "outputs": [],
   "source": [
    "# indices = np.random.choice(x_test.shape[0], 400, replace=False)\n",
    "#     print(subset_x_train.shape[0])\n",
    "# subset_x_train = x_train[indices]\n",
    "# subset_y_train= y_train[indices]\n",
    "\n",
    "# subset_x_test = x_test[indices]\n",
    "# subset_y_test= y_train[indices]\n",
    "\n",
    "\n",
    "# generate_train_header(x_test[:400], y_test[:400], name='har_train_data.h')\n",
    "\n",
    "# generate_test_bin(x_test[400:], y_test[400:], file='har_test.h')\n",
    "\n",
    "\n",
    "\n",
    "\n",
    "# generate_train_header(x_train_bin[:400], y_train[:400], name='00.bin')\n",
    "# # generate_test_bin(x_train_bin[1750:1900], y_train[1750:1900], file='har_test.h')\n",
    "# generate_test_bin(x_test_bin, y_test, file='har_test.h')"
   ]
  },
  {
   "cell_type": "code",
   "execution_count": null,
   "metadata": {},
   "outputs": [],
   "source": []
  },
  {
   "cell_type": "code",
   "execution_count": null,
   "metadata": {},
   "outputs": [],
   "source": []
  },
  {
   "cell_type": "code",
   "execution_count": null,
   "metadata": {},
   "outputs": [],
   "source": [
    "!open ."
   ]
  },
  {
   "cell_type": "code",
   "execution_count": null,
   "metadata": {},
   "outputs": [],
   "source": [
    "import numpy as np\n",
    "\n",
    "f = open(\"test_data.bin\", \"r\")\n",
    "a = np.fromfile(f, dtype=np.int8)\n"
   ]
  },
  {
   "cell_type": "code",
   "execution_count": null,
   "metadata": {},
   "outputs": [],
   "source": [
    "print (a[128:200])"
   ]
  },
  {
   "cell_type": "code",
   "execution_count": null,
   "metadata": {},
   "outputs": [],
   "source": [
    "# def generate_test_bin(x, y, name='test_data_with_label.bin'):\n",
    "#     '''\n",
    "#     this method generate the\n",
    "#     :param x:  input x data size\n",
    "#     :param y:  input label (one hot label)\n",
    "#     :return:\n",
    "#     '''\n",
    "#     # quantize input x\n",
    "#     min_value = np.min(x)\n",
    "#     max_value = np.max(x)\n",
    "\n",
    "#     int_bits = int(np.ceil(np.log2(max(abs(min_value), abs(max_value)))))\n",
    "#     dec_bits = 7 - int_bits\n",
    "#     x = np.round(x*2**dec_bits).astype(np.int8)\n",
    "    \n",
    "#     print(x[0][0])\n",
    "#     data = x.astype(dtype=\"byte\")\n",
    "#     label = y\n",
    "#     node = 0\n",
    "#     file='har_test.h'\n",
    "#     with open(file, 'w') as f:\n",
    "#         num_of_image = x.shape[0]\n",
    "#         for i in range(num_of_image):\n",
    "#             f.write('#define NODE_%d_TRAIN_IMG_%d {'%(node,i) )\n",
    "# #             print(data[i])\n",
    "#             (data[i]).flatten().tofile(f, sep=\", \") # convert 0~1 to 0~127\n",
    "#             f.write('} \\n')\n",
    "#             f.write('#define NODE_%d_TRAIN_IMG%d_LABEL'% (node, i))\n",
    "#             f.write(' %d \\n \\n' % label[i])\n",
    "#         f.write('#define NODE_%d_TOTAL_TRAIN_IMAGES %d \\n \\n'%(node,num_of_image))\n",
    "\n",
    "#         f.write('static q7_t NODE_%d_TRAIN_IMAGES[%d][%d] = {' % (node,num_of_image, data[0].flatten().shape[0]))\n",
    "#         f.write('NODE_%d_TRAIN_IMG_0'%(node))\n",
    "#         for i in range(num_of_image -1):\n",
    "#             f.write(',NODE_%d_TRAIN_IMG_%d'%(node, i+1))\n",
    "#         f.write('};\\n\\n')\n",
    "\n",
    "#         f.write('static q7_t NODE_%d_TRAIN_LABELS[%d] = {' % (node,num_of_image))\n",
    "#         f.write('NODE_%d_TRAIN_IMG0_LABEL'%(node))\n",
    "#         for i in range(num_of_image -1):\n",
    "#             f.write(',NODE_%d_TRAIN_IMG%d_LABEL'%(node, i+1))\n",
    "#         f.write('};\\n\\n')\n",
    "\n",
    "# #     return 000\n"
   ]
  },
  {
   "cell_type": "code",
   "execution_count": null,
   "metadata": {},
   "outputs": [],
   "source": []
  },
  {
   "cell_type": "code",
   "execution_count": null,
   "metadata": {},
   "outputs": [],
   "source": []
  }
 ],
 "metadata": {
  "kernelspec": {
   "display_name": "Python 3",
   "language": "python",
   "name": "python3"
  },
  "language_info": {
   "codemirror_mode": {
    "name": "ipython",
    "version": 3
   },
   "file_extension": ".py",
   "mimetype": "text/x-python",
   "name": "python",
   "nbconvert_exporter": "python",
   "pygments_lexer": "ipython3",
   "version": "3.8.6"
  }
 },
 "nbformat": 4,
 "nbformat_minor": 4
}
